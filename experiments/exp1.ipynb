{
 "cells": [
  {
   "cell_type": "code",
   "execution_count": 1,
   "metadata": {},
   "outputs": [],
   "source": [
    "import os\n",
    "import json\n",
    "import traceback"
   ]
  },
  {
   "cell_type": "code",
   "execution_count": 5,
   "metadata": {},
   "outputs": [
    {
     "name": "stdout",
     "output_type": "stream",
     "text": [
      "Collecting langchain-communityNote: you may need to restart the kernel to use updated packages.\n",
      "\n",
      "  Downloading langchain_community-0.2.0-py3-none-any.whl.metadata (8.8 kB)\n",
      "Requirement already satisfied: langchain-core in d:\\mcq_generator\\env1\\lib\\site-packages (0.2.0)\n",
      "Requirement already satisfied: PyYAML>=5.3 in d:\\mcq_generator\\env1\\lib\\site-packages (from langchain-community) (6.0.1)\n",
      "Requirement already satisfied: SQLAlchemy<3,>=1.4 in d:\\mcq_generator\\env1\\lib\\site-packages (from langchain-community) (2.0.30)\n",
      "Requirement already satisfied: aiohttp<4.0.0,>=3.8.3 in d:\\mcq_generator\\env1\\lib\\site-packages (from langchain-community) (3.9.5)\n",
      "Requirement already satisfied: dataclasses-json<0.7,>=0.5.7 in d:\\mcq_generator\\env1\\lib\\site-packages (from langchain-community) (0.6.6)\n",
      "Requirement already satisfied: langchain<0.3.0,>=0.2.0 in d:\\mcq_generator\\env1\\lib\\site-packages (from langchain-community) (0.2.0)\n",
      "Requirement already satisfied: langsmith<0.2.0,>=0.1.0 in d:\\mcq_generator\\env1\\lib\\site-packages (from langchain-community) (0.1.60)\n",
      "Requirement already satisfied: numpy<2,>=1 in d:\\mcq_generator\\env1\\lib\\site-packages (from langchain-community) (1.24.4)\n",
      "Requirement already satisfied: requests<3,>=2 in d:\\mcq_generator\\env1\\lib\\site-packages (from langchain-community) (2.32.1)\n",
      "Requirement already satisfied: tenacity<9.0.0,>=8.1.0 in d:\\mcq_generator\\env1\\lib\\site-packages (from langchain-community) (8.3.0)\n",
      "Requirement already satisfied: jsonpatch<2.0,>=1.33 in d:\\mcq_generator\\env1\\lib\\site-packages (from langchain-core) (1.33)\n",
      "Requirement already satisfied: packaging<24.0,>=23.2 in d:\\mcq_generator\\env1\\lib\\site-packages (from langchain-core) (23.2)\n",
      "Requirement already satisfied: pydantic<3,>=1 in d:\\mcq_generator\\env1\\lib\\site-packages (from langchain-core) (2.7.1)\n",
      "Requirement already satisfied: aiosignal>=1.1.2 in d:\\mcq_generator\\env1\\lib\\site-packages (from aiohttp<4.0.0,>=3.8.3->langchain-community) (1.3.1)\n",
      "Requirement already satisfied: attrs>=17.3.0 in d:\\mcq_generator\\env1\\lib\\site-packages (from aiohttp<4.0.0,>=3.8.3->langchain-community) (23.2.0)\n",
      "Requirement already satisfied: frozenlist>=1.1.1 in d:\\mcq_generator\\env1\\lib\\site-packages (from aiohttp<4.0.0,>=3.8.3->langchain-community) (1.4.1)\n",
      "Requirement already satisfied: multidict<7.0,>=4.5 in d:\\mcq_generator\\env1\\lib\\site-packages (from aiohttp<4.0.0,>=3.8.3->langchain-community) (6.0.5)\n",
      "Requirement already satisfied: yarl<2.0,>=1.0 in d:\\mcq_generator\\env1\\lib\\site-packages (from aiohttp<4.0.0,>=3.8.3->langchain-community) (1.9.4)\n",
      "Requirement already satisfied: async-timeout<5.0,>=4.0 in d:\\mcq_generator\\env1\\lib\\site-packages (from aiohttp<4.0.0,>=3.8.3->langchain-community) (4.0.3)\n",
      "Requirement already satisfied: marshmallow<4.0.0,>=3.18.0 in d:\\mcq_generator\\env1\\lib\\site-packages (from dataclasses-json<0.7,>=0.5.7->langchain-community) (3.21.2)\n",
      "Requirement already satisfied: typing-inspect<1,>=0.4.0 in d:\\mcq_generator\\env1\\lib\\site-packages (from dataclasses-json<0.7,>=0.5.7->langchain-community) (0.9.0)\n",
      "Requirement already satisfied: jsonpointer>=1.9 in d:\\mcq_generator\\env1\\lib\\site-packages (from jsonpatch<2.0,>=1.33->langchain-core) (2.4)\n",
      "Requirement already satisfied: langchain-text-splitters<0.3.0,>=0.2.0 in d:\\mcq_generator\\env1\\lib\\site-packages (from langchain<0.3.0,>=0.2.0->langchain-community) (0.2.0)\n",
      "Requirement already satisfied: orjson<4.0.0,>=3.9.14 in d:\\mcq_generator\\env1\\lib\\site-packages (from langsmith<0.2.0,>=0.1.0->langchain-community) (3.10.3)\n",
      "Requirement already satisfied: annotated-types>=0.4.0 in d:\\mcq_generator\\env1\\lib\\site-packages (from pydantic<3,>=1->langchain-core) (0.7.0)\n",
      "Requirement already satisfied: pydantic-core==2.18.2 in d:\\mcq_generator\\env1\\lib\\site-packages (from pydantic<3,>=1->langchain-core) (2.18.2)\n",
      "Requirement already satisfied: typing-extensions>=4.6.1 in d:\\mcq_generator\\env1\\lib\\site-packages (from pydantic<3,>=1->langchain-core) (4.11.0)\n",
      "Requirement already satisfied: charset-normalizer<4,>=2 in d:\\mcq_generator\\env1\\lib\\site-packages (from requests<3,>=2->langchain-community) (3.3.2)\n",
      "Requirement already satisfied: idna<4,>=2.5 in d:\\mcq_generator\\env1\\lib\\site-packages (from requests<3,>=2->langchain-community) (3.7)\n",
      "Requirement already satisfied: urllib3<3,>=1.21.1 in d:\\mcq_generator\\env1\\lib\\site-packages (from requests<3,>=2->langchain-community) (2.2.1)\n",
      "Requirement already satisfied: certifi>=2017.4.17 in d:\\mcq_generator\\env1\\lib\\site-packages (from requests<3,>=2->langchain-community) (2024.2.2)\n",
      "Requirement already satisfied: greenlet!=0.4.17 in d:\\mcq_generator\\env1\\lib\\site-packages (from SQLAlchemy<3,>=1.4->langchain-community) (3.0.3)\n",
      "Requirement already satisfied: mypy-extensions>=0.3.0 in d:\\mcq_generator\\env1\\lib\\site-packages (from typing-inspect<1,>=0.4.0->dataclasses-json<0.7,>=0.5.7->langchain-community) (1.0.0)\n",
      "Downloading langchain_community-0.2.0-py3-none-any.whl (2.1 MB)\n",
      "   ---------------------------------------- 0.0/2.1 MB ? eta -:--:--\n",
      "    --------------------------------------- 0.0/2.1 MB 1.4 MB/s eta 0:00:02\n",
      "    --------------------------------------- 0.0/2.1 MB 1.4 MB/s eta 0:00:02\n",
      "    --------------------------------------- 0.0/2.1 MB 1.4 MB/s eta 0:00:02\n",
      "    --------------------------------------- 0.0/2.1 MB 1.4 MB/s eta 0:00:02\n",
      "    --------------------------------------- 0.0/2.1 MB 1.4 MB/s eta 0:00:02\n",
      "    --------------------------------------- 0.0/2.1 MB 1.4 MB/s eta 0:00:02\n",
      "   - -------------------------------------- 0.1/2.1 MB 249.8 kB/s eta 0:00:09\n",
      "   -- ------------------------------------- 0.1/2.1 MB 262.6 kB/s eta 0:00:08\n",
      "   -- ------------------------------------- 0.1/2.1 MB 304.6 kB/s eta 0:00:07\n",
      "   -- ------------------------------------- 0.2/2.1 MB 306.3 kB/s eta 0:00:07\n",
      "   ---- ----------------------------------- 0.2/2.1 MB 375.1 kB/s eta 0:00:06\n",
      "   ------ --------------------------------- 0.3/2.1 MB 531.5 kB/s eta 0:00:04\n",
      "   ------- -------------------------------- 0.4/2.1 MB 606.2 kB/s eta 0:00:03\n",
      "   --------- ------------------------------ 0.5/2.1 MB 732.5 kB/s eta 0:00:03\n",
      "   ---------- ----------------------------- 0.6/2.1 MB 755.9 kB/s eta 0:00:03\n",
      "   ----------- ---------------------------- 0.6/2.1 MB 805.5 kB/s eta 0:00:02\n",
      "   ------------- -------------------------- 0.7/2.1 MB 874.8 kB/s eta 0:00:02\n",
      "   ------------- -------------------------- 0.7/2.1 MB 874.8 kB/s eta 0:00:02\n",
      "   --------------- ------------------------ 0.8/2.1 MB 908.9 kB/s eta 0:00:02\n",
      "   ---------------- ----------------------- 0.9/2.1 MB 913.3 kB/s eta 0:00:02\n",
      "   ----------------- ---------------------- 0.9/2.1 MB 931.8 kB/s eta 0:00:02\n",
      "   ------------------- -------------------- 1.1/2.1 MB 968.9 kB/s eta 0:00:02\n",
      "   -------------------- ------------------- 1.1/2.1 MB 988.0 kB/s eta 0:00:02\n",
      "   ----------------------- ---------------- 1.2/2.1 MB 1.0 MB/s eta 0:00:01\n",
      "   ------------------------ --------------- 1.3/2.1 MB 1.0 MB/s eta 0:00:01\n",
      "   ------------------------ --------------- 1.3/2.1 MB 1.0 MB/s eta 0:00:01\n",
      "   ------------------------ --------------- 1.3/2.1 MB 1.0 MB/s eta 0:00:01\n",
      "   ------------------------ --------------- 1.3/2.1 MB 1.0 MB/s eta 0:00:01\n",
      "   ------------------------ --------------- 1.3/2.1 MB 1.0 MB/s eta 0:00:01\n",
      "   ------------------------ --------------- 1.3/2.1 MB 1.0 MB/s eta 0:00:01\n",
      "   ------------------------ --------------- 1.3/2.1 MB 1.0 MB/s eta 0:00:01\n",
      "   ------------------------ --------------- 1.3/2.1 MB 1.0 MB/s eta 0:00:01\n",
      "   ------------------------ --------------- 1.3/2.1 MB 1.0 MB/s eta 0:00:01\n",
      "   ------------------------ --------------- 1.3/2.1 MB 1.0 MB/s eta 0:00:01\n",
      "   ------------------------ --------------- 1.3/2.1 MB 1.0 MB/s eta 0:00:01\n",
      "   ------------------------ --------------- 1.3/2.1 MB 1.0 MB/s eta 0:00:01\n",
      "   ------------------------ --------------- 1.3/2.1 MB 1.0 MB/s eta 0:00:01\n",
      "   ------------------------ --------------- 1.3/2.1 MB 1.0 MB/s eta 0:00:01\n",
      "   ------------------------ --------------- 1.3/2.1 MB 1.0 MB/s eta 0:00:01\n",
      "   ------------------------- -------------- 1.3/2.1 MB 650.5 kB/s eta 0:00:02\n",
      "   ------------------------- -------------- 1.3/2.1 MB 626.3 kB/s eta 0:00:02\n",
      "   ------------------------- -------------- 1.4/2.1 MB 627.3 kB/s eta 0:00:02\n",
      "   -------------------------- ------------- 1.4/2.1 MB 632.5 kB/s eta 0:00:02\n",
      "   --------------------------- ------------ 1.5/2.1 MB 642.0 kB/s eta 0:00:02\n",
      "   --------------------------- ------------ 1.5/2.1 MB 642.0 kB/s eta 0:00:02\n",
      "   --------------------------- ------------ 1.5/2.1 MB 642.0 kB/s eta 0:00:02\n",
      "   --------------------------- ------------ 1.5/2.1 MB 642.0 kB/s eta 0:00:02\n",
      "   ---------------------------- ----------- 1.5/2.1 MB 601.1 kB/s eta 0:00:02\n",
      "   ---------------------------- ----------- 1.5/2.1 MB 593.9 kB/s eta 0:00:02\n",
      "   ----------------------------- ---------- 1.6/2.1 MB 607.3 kB/s eta 0:00:01\n",
      "   ------------------------------- -------- 1.6/2.1 MB 631.9 kB/s eta 0:00:01\n",
      "   --------------------------------- ------ 1.8/2.1 MB 663.2 kB/s eta 0:00:01\n",
      "   ----------------------------------- ---- 1.9/2.1 MB 686.0 kB/s eta 0:00:01\n",
      "   ------------------------------------ --- 1.9/2.1 MB 699.9 kB/s eta 0:00:01\n",
      "   -------------------------------------- - 2.1/2.1 MB 724.2 kB/s eta 0:00:01\n",
      "   ---------------------------------------- 2.1/2.1 MB 726.9 kB/s eta 0:00:00\n",
      "Installing collected packages: langchain-community\n",
      "Successfully installed langchain-community-0.2.0\n"
     ]
    }
   ],
   "source": [
    "pip install langchain-community langchain-core"
   ]
  },
  {
   "cell_type": "code",
   "execution_count": 6,
   "metadata": {},
   "outputs": [],
   "source": [
    "from langchain.chat_models import ChatOpenAI     #for calling openai api"
   ]
  },
  {
   "cell_type": "code",
   "execution_count": 8,
   "metadata": {},
   "outputs": [
    {
     "data": {
      "text/plain": [
       "True"
      ]
     },
     "execution_count": 8,
     "metadata": {},
     "output_type": "execute_result"
    }
   ],
   "source": [
    "from dotenv import load_dotenv  #python dotenv reads key-value pairs from .env file and can set them as environment variables\n",
    "\n",
    "load_dotenv()  # take environment variables from .env."
   ]
  },
  {
   "cell_type": "code",
   "execution_count": 9,
   "metadata": {},
   "outputs": [],
   "source": [
    "KEY=os.getenv(\"OPENAI_API_KEY\")"
   ]
  },
  {
   "cell_type": "code",
   "execution_count": 10,
   "metadata": {},
   "outputs": [
    {
     "data": {
      "text/plain": [
       "''"
      ]
     },
     "execution_count": 10,
     "metadata": {},
     "output_type": "execute_result"
    }
   ],
   "source": [
    "KEY"
   ]
  },
  {
   "cell_type": "code",
   "execution_count": null,
   "metadata": {},
   "outputs": [],
   "source": []
  }
 ],
 "metadata": {
  "kernelspec": {
   "display_name": "Python 3",
   "language": "python",
   "name": "python3"
  },
  "language_info": {
   "codemirror_mode": {
    "name": "ipython",
    "version": 3
   },
   "file_extension": ".py",
   "mimetype": "text/x-python",
   "name": "python",
   "nbconvert_exporter": "python",
   "pygments_lexer": "ipython3",
   "version": "3.8.19"
  }
 },
 "nbformat": 4,
 "nbformat_minor": 2
}
